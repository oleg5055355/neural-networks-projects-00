{
 "cells": [
  {
   "cell_type": "code",
   "execution_count": 1,
   "id": "26b5b875",
   "metadata": {},
   "outputs": [
    {
     "name": "stdout",
     "output_type": "stream",
     "text": [
      "Init Plugin\n",
      "Init Graph Optimizer\n",
      "Init Kernel\n"
     ]
    }
   ],
   "source": [
    "import spacy\n",
    "from spacy.lang.en.stop_words import STOP_WORDS\n",
    "from string import punctuation\n",
    "from collections import Counter\n",
    "from heapq import nlargest"
   ]
  },
  {
   "cell_type": "code",
   "execution_count": 2,
   "id": "746c2147",
   "metadata": {},
   "outputs": [],
   "source": [
    "nlp = spacy.load('en_core_web_lg')"
   ]
  },
  {
   "cell_type": "code",
   "execution_count": 3,
   "id": "e9948a36",
   "metadata": {},
   "outputs": [],
   "source": [
    "text = '''\n",
    "Johannes Gutenberg (1398 – 1468) was a German goldsmith and publisher who introduced printing to Europe. His introduction of mechanical movable type printing to Europe started the Printing Revolution and is widely regarded as the most important event of the modern period. It played a key role in the scientific revolution and laid the basis for the modern knowledge-based economy and the spread of learning to the masses.\n",
    "\n",
    "Gutenberg's many contributions to printing are: the invention of a process for mass-producing movable type, the use of oil-based ink for printing books, adjustable molds, and the use of a wooden printing press. His truly epochal invention was the combination of these elements into a practical system that allowed the mass production of printed books and was economically viable for printers and readers alike.\n",
    "\n",
    "In Renaissance Europe, the arrival of mechanical movable type printing introduced the era of mass communication which permanently altered the structure of society. The relatively unrestricted circulation of information—including revolutionary ideas—transcended borders, and captured the masses in the Reformation. The sharp increase in literacy broke the monopoly of the literate elite on education and learning and bolstered the emerging middle class.\n",
    "'''"
   ]
  },
  {
   "cell_type": "code",
   "execution_count": 4,
   "id": "b64a94cb",
   "metadata": {},
   "outputs": [],
   "source": [
    "doc = nlp(text)"
   ]
  },
  {
   "cell_type": "code",
   "execution_count": 5,
   "id": "15980660",
   "metadata": {},
   "outputs": [],
   "source": [
    "keywords = []\n",
    "stopwords = list(STOP_WORDS)\n",
    "pos_tag = ['ADJ','PROPN','NOUN','VERB']\n",
    "for token in doc:\n",
    "    if(token.text in stopwords or token.text in punctuation):\n",
    "        continue\n",
    "    if(token.pos_ in pos_tag):\n",
    "        keywords.append(token.text)"
   ]
  },
  {
   "cell_type": "code",
   "execution_count": 6,
   "id": "0a96886e",
   "metadata": {},
   "outputs": [
    {
     "data": {
      "text/plain": [
       "[('printing', 6), ('Europe', 3), ('movable', 3), ('type', 3), ('Gutenberg', 2)]"
      ]
     },
     "execution_count": 6,
     "metadata": {},
     "output_type": "execute_result"
    }
   ],
   "source": [
    "freq_word = Counter(keywords)\n",
    "freq_word.most_common(5)"
   ]
  },
  {
   "cell_type": "code",
   "execution_count": 7,
   "id": "7e9f4cf2",
   "metadata": {},
   "outputs": [
    {
     "data": {
      "text/plain": [
       "[('printing', 1.0),\n",
       " ('Europe', 0.5),\n",
       " ('movable', 0.5),\n",
       " ('type', 0.5),\n",
       " ('Gutenberg', 0.3333333333333333)]"
      ]
     },
     "execution_count": 7,
     "metadata": {},
     "output_type": "execute_result"
    }
   ],
   "source": [
    "max_freq = Counter(keywords).most_common(1)[0][1]\n",
    "for word in freq_word.keys():\n",
    "    freq_word[word] = freq_word[word]/max_freq\n",
    "freq_word.most_common(5)"
   ]
  },
  {
   "cell_type": "code",
   "execution_count": 8,
   "id": "2b3d8916",
   "metadata": {},
   "outputs": [
    {
     "name": "stdout",
     "output_type": "stream",
     "text": [
      "{\n",
      "Johannes Gutenberg (1398 – 1468) was a German goldsmith and publisher who introduced printing to Europe.: 2.833333333333333, His introduction of mechanical movable type printing to Europe started the Printing Revolution and is widely regarded as the most important event of the modern period.: 4.499999999999999, It played a key role in the scientific revolution and laid the basis for the modern knowledge-based economy and the spread of learning to the masses.\n",
      "\n",
      ": 3.0, Gutenberg's many contributions to printing are: the invention of a process for mass-producing movable type, the use of oil-based ink for printing books, adjustable molds, and the use of a wooden printing press.: 7.833333333333334, His truly epochal invention was the combination of these elements into a practical system that allowed the mass production of printed books and was economically viable for printers and readers alike.\n",
      "\n",
      ": 2.833333333333333, In Renaissance Europe, the arrival of mechanical movable type printing introduced the era of mass communication which permanently altered the structure of society.: 4.666666666666668, The relatively unrestricted circulation of information—including revolutionary ideas—transcended borders, and captured the masses in the Reformation.: 2.0, The sharp increase in literacy broke the monopoly of the literate elite on education and learning and bolstered the emerging middle class.\n",
      ": 2.333333333333333}\n"
     ]
    }
   ],
   "source": [
    "sent_strength={}\n",
    "for sent in doc.sents:\n",
    "    for word in sent:\n",
    "        if word.text in freq_word.keys():\n",
    "            if sent in sent_strength.keys():\n",
    "                sent_strength[sent]+=freq_word[word.text]\n",
    "            else:\n",
    "                sent_strength[sent] = freq_word[word.text]\n",
    "print(sent_strength)"
   ]
  },
  {
   "cell_type": "code",
   "execution_count": 9,
   "id": "8a74bf9e",
   "metadata": {},
   "outputs": [
    {
     "name": "stdout",
     "output_type": "stream",
     "text": [
      "Gutenberg's many contributions to printing are: the invention of a process for mass-producing movable type, the use of oil-based ink for printing books, adjustable molds, and the use of a wooden printing press. In Renaissance Europe, the arrival of mechanical movable type printing introduced the era of mass communication which permanently altered the structure of society. His introduction of mechanical movable type printing to Europe started the Printing Revolution and is widely regarded as the most important event of the modern period.\n"
     ]
    }
   ],
   "source": [
    "summarized = nlargest(3,sent_strength, key=sent_strength.get)\n",
    "print(' '.join([w.text for w in summarized]))"
   ]
  },
  {
   "cell_type": "code",
   "execution_count": 10,
   "id": "878428d3",
   "metadata": {},
   "outputs": [
    {
     "name": "stdout",
     "output_type": "stream",
     "text": [
      "Summary: Johannes Gutenberg (1398 – 1468) was a German goldsmith and publisher. His introduction of mechanical movable type printing to Europe started the Printing Revolution and is widely regarded as the most important event of the modern period. It played a key role in the scientific revolution and laid the basis for the modern knowledge-based economy.\n"
     ]
    }
   ],
   "source": [
    "from transformers import BartTokenizer, BartForConditionalGeneration\n",
    "model_name = 'facebook/bart-large-cnn'\n",
    "input_text = text\n",
    "\n",
    "tokenizer = BartTokenizer.from_pretrained(model_name)\n",
    "model = BartForConditionalGeneration.from_pretrained(model_name)\n",
    "inputs = tokenizer.batch_encode_plus(\n",
    "    [input_text], \n",
    "    return_tensors='pt', \n",
    "    max_length=1024, \n",
    "    truncation=True\n",
    ")\n",
    "summary_ids = model.generate(\n",
    "    inputs['input_ids'], \n",
    "    num_beams=4, \n",
    "    max_length=100, \n",
    "    early_stopping=True\n",
    ")\n",
    "summary = tokenizer.decode(summary_ids.squeeze(), skip_special_tokens=True)\n",
    "print(\"Summary:\", summary)\n"
   ]
  },
  {
   "cell_type": "code",
   "execution_count": null,
   "id": "701a7395",
   "metadata": {},
   "outputs": [],
   "source": []
  }
 ],
 "metadata": {
  "kernelspec": {
   "display_name": "Python 3.9 (tensorflow)",
   "language": "python",
   "name": "tensorflow"
  },
  "language_info": {
   "codemirror_mode": {
    "name": "ipython",
    "version": 3
   },
   "file_extension": ".py",
   "mimetype": "text/x-python",
   "name": "python",
   "nbconvert_exporter": "python",
   "pygments_lexer": "ipython3",
   "version": "3.9.13"
  }
 },
 "nbformat": 4,
 "nbformat_minor": 5
}
