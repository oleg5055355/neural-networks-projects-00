{
 "cells": [
  {
   "cell_type": "code",
   "execution_count": 1,
   "id": "2a9e9cf3",
   "metadata": {},
   "outputs": [],
   "source": [
    "import pandas as pd\n",
    "import numpy as np"
   ]
  },
  {
   "cell_type": "code",
   "execution_count": 2,
   "id": "440460f8",
   "metadata": {},
   "outputs": [
    {
     "data": {
      "text/html": [
       "<div>\n",
       "<style scoped>\n",
       "    .dataframe tbody tr th:only-of-type {\n",
       "        vertical-align: middle;\n",
       "    }\n",
       "\n",
       "    .dataframe tbody tr th {\n",
       "        vertical-align: top;\n",
       "    }\n",
       "\n",
       "    .dataframe thead th {\n",
       "        text-align: right;\n",
       "    }\n",
       "</style>\n",
       "<table border=\"1\" class=\"dataframe\">\n",
       "  <thead>\n",
       "    <tr style=\"text-align: right;\">\n",
       "      <th></th>\n",
       "      <th>label</th>\n",
       "      <th>text</th>\n",
       "    </tr>\n",
       "  </thead>\n",
       "  <tbody>\n",
       "    <tr>\n",
       "      <th>0</th>\n",
       "      <td>Psoriasis</td>\n",
       "      <td>I have been experiencing a skin rash on my arm...</td>\n",
       "    </tr>\n",
       "    <tr>\n",
       "      <th>1</th>\n",
       "      <td>Psoriasis</td>\n",
       "      <td>My skin has been peeling, especially on my kne...</td>\n",
       "    </tr>\n",
       "    <tr>\n",
       "      <th>2</th>\n",
       "      <td>Psoriasis</td>\n",
       "      <td>I have been experiencing joint pain in my fing...</td>\n",
       "    </tr>\n",
       "    <tr>\n",
       "      <th>3</th>\n",
       "      <td>Psoriasis</td>\n",
       "      <td>There is a silver like dusting on my skin, esp...</td>\n",
       "    </tr>\n",
       "    <tr>\n",
       "      <th>4</th>\n",
       "      <td>Psoriasis</td>\n",
       "      <td>My nails have small dents or pits in them, and...</td>\n",
       "    </tr>\n",
       "  </tbody>\n",
       "</table>\n",
       "</div>"
      ],
      "text/plain": [
       "       label                                               text\n",
       "0  Psoriasis  I have been experiencing a skin rash on my arm...\n",
       "1  Psoriasis  My skin has been peeling, especially on my kne...\n",
       "2  Psoriasis  I have been experiencing joint pain in my fing...\n",
       "3  Psoriasis  There is a silver like dusting on my skin, esp...\n",
       "4  Psoriasis  My nails have small dents or pits in them, and..."
      ]
     },
     "execution_count": 2,
     "metadata": {},
     "output_type": "execute_result"
    }
   ],
   "source": [
    "df = pd.read_csv(\"/Users/adityavs14/Documents/Internship/Pianalytix/Month_2/sym2dis/ML_model/Symptom2Disease.csv\",index_col = 0)\n",
    "df.head()"
   ]
  },
  {
   "cell_type": "code",
   "execution_count": 4,
   "id": "676ea1ab",
   "metadata": {},
   "outputs": [
    {
     "data": {
      "text/html": [
       "<div>\n",
       "<style scoped>\n",
       "    .dataframe tbody tr th:only-of-type {\n",
       "        vertical-align: middle;\n",
       "    }\n",
       "\n",
       "    .dataframe tbody tr th {\n",
       "        vertical-align: top;\n",
       "    }\n",
       "\n",
       "    .dataframe thead th {\n",
       "        text-align: right;\n",
       "    }\n",
       "</style>\n",
       "<table border=\"1\" class=\"dataframe\">\n",
       "  <thead>\n",
       "    <tr style=\"text-align: right;\">\n",
       "      <th></th>\n",
       "      <th>label</th>\n",
       "      <th>text</th>\n",
       "      <th>label_num</th>\n",
       "    </tr>\n",
       "  </thead>\n",
       "  <tbody>\n",
       "    <tr>\n",
       "      <th>0</th>\n",
       "      <td>Psoriasis</td>\n",
       "      <td>I have been experiencing a skin rash on my arm...</td>\n",
       "      <td>0</td>\n",
       "    </tr>\n",
       "    <tr>\n",
       "      <th>1</th>\n",
       "      <td>Psoriasis</td>\n",
       "      <td>My skin has been peeling, especially on my kne...</td>\n",
       "      <td>0</td>\n",
       "    </tr>\n",
       "    <tr>\n",
       "      <th>2</th>\n",
       "      <td>Psoriasis</td>\n",
       "      <td>I have been experiencing joint pain in my fing...</td>\n",
       "      <td>0</td>\n",
       "    </tr>\n",
       "    <tr>\n",
       "      <th>3</th>\n",
       "      <td>Psoriasis</td>\n",
       "      <td>There is a silver like dusting on my skin, esp...</td>\n",
       "      <td>0</td>\n",
       "    </tr>\n",
       "    <tr>\n",
       "      <th>4</th>\n",
       "      <td>Psoriasis</td>\n",
       "      <td>My nails have small dents or pits in them, and...</td>\n",
       "      <td>0</td>\n",
       "    </tr>\n",
       "  </tbody>\n",
       "</table>\n",
       "</div>"
      ],
      "text/plain": [
       "       label                                               text  label_num\n",
       "0  Psoriasis  I have been experiencing a skin rash on my arm...          0\n",
       "1  Psoriasis  My skin has been peeling, especially on my kne...          0\n",
       "2  Psoriasis  I have been experiencing joint pain in my fing...          0\n",
       "3  Psoriasis  There is a silver like dusting on my skin, esp...          0\n",
       "4  Psoriasis  My nails have small dents or pits in them, and...          0"
      ]
     },
     "execution_count": 4,
     "metadata": {},
     "output_type": "execute_result"
    }
   ],
   "source": [
    "df.label.unique()\n",
    "df['label_num']= df.label.map(dict(zip(pd.Series(df['label'].unique()),pd.Series([i for i in range(24)]))))\n",
    "                              \n",
    "df.head()"
   ]
  },
  {
   "cell_type": "code",
   "execution_count": 5,
   "id": "8de3a4b8",
   "metadata": {},
   "outputs": [],
   "source": [
    "lookup = dict(zip(pd.Series(df['label'].unique()),pd.Series([i for i in range(24)])))"
   ]
  },
  {
   "cell_type": "code",
   "execution_count": 7,
   "id": "b25d234b",
   "metadata": {},
   "outputs": [
    {
     "name": "stdout",
     "output_type": "stream",
     "text": [
      "{'Psoriasis': 0, 'Varicose Veins': 1, 'Typhoid': 2, 'Chicken pox': 3, 'Impetigo': 4, 'Dengue': 5, 'Fungal infection': 6, 'Common Cold': 7, 'Pneumonia': 8, 'Dimorphic Hemorrhoids': 9, 'Arthritis': 10, 'Acne': 11, 'Bronchial Asthma': 12, 'Hypertension': 13, 'Migraine': 14, 'Cervical spondylosis': 15, 'Jaundice': 16, 'Malaria': 17, 'urinary tract infection': 18, 'allergy': 19, 'gastroesophageal reflux disease': 20, 'drug reaction': 21, 'peptic ulcer disease': 22, 'diabetes': 23}\n"
     ]
    }
   ],
   "source": [
    "print(lookup)"
   ]
  },
  {
   "cell_type": "code",
   "execution_count": 9,
   "id": "0065495b",
   "metadata": {},
   "outputs": [],
   "source": [
    "import spacy\n",
    "\n",
    "nlp = spacy.load(\"en_core_web_lg\") \n",
    "\n",
    "def preprocess(text):\n",
    "    list =[]\n",
    "    for token in nlp(text):\n",
    "        if token.is_space or token.is_punct:\n",
    "            continue\n",
    "        list.append(token.lemma_)\n",
    "    return ' '.join(list)"
   ]
  },
  {
   "cell_type": "code",
   "execution_count": 10,
   "id": "64ce594d",
   "metadata": {},
   "outputs": [],
   "source": [
    "df['preprocess'] = df['text'].apply(preprocess)"
   ]
  },
  {
   "cell_type": "code",
   "execution_count": 11,
   "id": "5fdf426e",
   "metadata": {},
   "outputs": [
    {
     "data": {
      "text/html": [
       "<div>\n",
       "<style scoped>\n",
       "    .dataframe tbody tr th:only-of-type {\n",
       "        vertical-align: middle;\n",
       "    }\n",
       "\n",
       "    .dataframe tbody tr th {\n",
       "        vertical-align: top;\n",
       "    }\n",
       "\n",
       "    .dataframe thead th {\n",
       "        text-align: right;\n",
       "    }\n",
       "</style>\n",
       "<table border=\"1\" class=\"dataframe\">\n",
       "  <thead>\n",
       "    <tr style=\"text-align: right;\">\n",
       "      <th></th>\n",
       "      <th>label</th>\n",
       "      <th>text</th>\n",
       "      <th>label_num</th>\n",
       "      <th>preprocess</th>\n",
       "      <th>vector</th>\n",
       "    </tr>\n",
       "  </thead>\n",
       "  <tbody>\n",
       "    <tr>\n",
       "      <th>0</th>\n",
       "      <td>Psoriasis</td>\n",
       "      <td>I have been experiencing a skin rash on my arm...</td>\n",
       "      <td>0</td>\n",
       "      <td>I have be experience a skin rash on my arm leg...</td>\n",
       "      <td>[-1.0520097, 2.0068107, -3.1425354, 1.3052415,...</td>\n",
       "    </tr>\n",
       "    <tr>\n",
       "      <th>1</th>\n",
       "      <td>Psoriasis</td>\n",
       "      <td>My skin has been peeling, especially on my kne...</td>\n",
       "      <td>0</td>\n",
       "      <td>my skin have be peel especially on my knee elb...</td>\n",
       "      <td>[-1.3448839, 1.2253065, -4.0693727, 0.5828706,...</td>\n",
       "    </tr>\n",
       "    <tr>\n",
       "      <th>2</th>\n",
       "      <td>Psoriasis</td>\n",
       "      <td>I have been experiencing joint pain in my fing...</td>\n",
       "      <td>0</td>\n",
       "      <td>I have be experience joint pain in my finger w...</td>\n",
       "      <td>[-0.039949566, 1.4880179, -3.136055, 0.0100825...</td>\n",
       "    </tr>\n",
       "    <tr>\n",
       "      <th>3</th>\n",
       "      <td>Psoriasis</td>\n",
       "      <td>There is a silver like dusting on my skin, esp...</td>\n",
       "      <td>0</td>\n",
       "      <td>there be a silver like dust on my skin especia...</td>\n",
       "      <td>[-1.5876127, 1.5015007, -3.8816297, 1.3765275,...</td>\n",
       "    </tr>\n",
       "    <tr>\n",
       "      <th>4</th>\n",
       "      <td>Psoriasis</td>\n",
       "      <td>My nails have small dents or pits in them, and...</td>\n",
       "      <td>0</td>\n",
       "      <td>my nail have small dent or pit in they and the...</td>\n",
       "      <td>[-0.80246216, 2.5354614, -4.1618123, -0.066844...</td>\n",
       "    </tr>\n",
       "  </tbody>\n",
       "</table>\n",
       "</div>"
      ],
      "text/plain": [
       "       label                                               text  label_num   \n",
       "0  Psoriasis  I have been experiencing a skin rash on my arm...          0  \\\n",
       "1  Psoriasis  My skin has been peeling, especially on my kne...          0   \n",
       "2  Psoriasis  I have been experiencing joint pain in my fing...          0   \n",
       "3  Psoriasis  There is a silver like dusting on my skin, esp...          0   \n",
       "4  Psoriasis  My nails have small dents or pits in them, and...          0   \n",
       "\n",
       "                                          preprocess   \n",
       "0  I have be experience a skin rash on my arm leg...  \\\n",
       "1  my skin have be peel especially on my knee elb...   \n",
       "2  I have be experience joint pain in my finger w...   \n",
       "3  there be a silver like dust on my skin especia...   \n",
       "4  my nail have small dent or pit in they and the...   \n",
       "\n",
       "                                              vector  \n",
       "0  [-1.0520097, 2.0068107, -3.1425354, 1.3052415,...  \n",
       "1  [-1.3448839, 1.2253065, -4.0693727, 0.5828706,...  \n",
       "2  [-0.039949566, 1.4880179, -3.136055, 0.0100825...  \n",
       "3  [-1.5876127, 1.5015007, -3.8816297, 1.3765275,...  \n",
       "4  [-0.80246216, 2.5354614, -4.1618123, -0.066844...  "
      ]
     },
     "execution_count": 11,
     "metadata": {},
     "output_type": "execute_result"
    }
   ],
   "source": [
    "df['vector'] = df.preprocess.apply(lambda text: nlp(text).vector)\n",
    "df.head()"
   ]
  },
  {
   "cell_type": "code",
   "execution_count": 12,
   "id": "a0c67a52",
   "metadata": {},
   "outputs": [],
   "source": [
    "from sklearn.model_selection import train_test_split\n",
    "\n",
    "X_train, X_test, y_train, y_test = train_test_split(\n",
    "    df['vector'].values,df['label_num'],test_size= 0.20 , random_state = 23 , stratify= df['label_num'])"
   ]
  },
  {
   "cell_type": "code",
   "execution_count": 13,
   "id": "ab96032d",
   "metadata": {},
   "outputs": [],
   "source": [
    "X_train_2d = np.stack(X_train)\n",
    "X_test_2d = np.stack(X_test)"
   ]
  },
  {
   "cell_type": "code",
   "execution_count": 14,
   "id": "921bb77c",
   "metadata": {},
   "outputs": [],
   "source": [
    "from sklearn.preprocessing import MinMaxScaler\n",
    "\n",
    "scaler = MinMaxScaler()\n",
    "\n",
    "X_train_scaled = scaler.fit_transform(X_train_2d)\n",
    "X_test_scaled = scaler.transform(X_test_2d)"
   ]
  },
  {
   "cell_type": "code",
   "execution_count": 15,
   "id": "99941c38",
   "metadata": {},
   "outputs": [],
   "source": [
    "from sklearn.svm import SVC\n",
    "\n",
    "model = SVC(C=1, kernel='poly', degree=3, gamma=\"scale\")\n",
    "    \n",
    "model.fit(X_train_scaled, y_train)\n",
    "\n",
    "y_pred = model.predict(X_test_scaled)"
   ]
  },
  {
   "cell_type": "code",
   "execution_count": 16,
   "id": "abcb898d",
   "metadata": {},
   "outputs": [
    {
     "name": "stdout",
     "output_type": "stream",
     "text": [
      "\n",
      "\n",
      "\n",
      " Classification Report   :\n",
      "\n",
      "\n",
      "                precision    recall  f1-score   support\n",
      "\n",
      "           0       1.00      1.00      1.00        10\n",
      "           1       0.91      1.00      0.95        10\n",
      "           2       0.90      0.90      0.90        10\n",
      "           3       0.83      1.00      0.91        10\n",
      "           4       1.00      1.00      1.00        10\n",
      "           5       1.00      0.70      0.82        10\n",
      "           6       0.91      1.00      0.95        10\n",
      "           7       1.00      0.90      0.95        10\n",
      "           8       1.00      1.00      1.00        10\n",
      "           9       1.00      1.00      1.00        10\n",
      "          10       0.91      1.00      0.95        10\n",
      "          11       1.00      1.00      1.00        10\n",
      "          12       1.00      1.00      1.00        10\n",
      "          13       1.00      0.90      0.95        10\n",
      "          14       0.82      0.90      0.86        10\n",
      "          15       1.00      1.00      1.00        10\n",
      "          16       0.91      1.00      0.95        10\n",
      "          17       0.91      1.00      0.95        10\n",
      "          18       1.00      1.00      1.00        10\n",
      "          19       0.91      1.00      0.95        10\n",
      "          20       0.91      1.00      0.95        10\n",
      "          21       1.00      0.70      0.82        10\n",
      "          22       1.00      0.80      0.89        10\n",
      "          23       0.80      0.80      0.80        10\n",
      "\n",
      "    accuracy                           0.94       240\n",
      "   macro avg       0.95      0.94      0.94       240\n",
      "weighted avg       0.95      0.94      0.94       240\n",
      "\n"
     ]
    }
   ],
   "source": [
    "from sklearn.metrics import classification_report\n",
    "\n",
    "print('\\n\\n\\n Classification Report   :\\n\\n\\n ' , classification_report(y_test,y_pred))"
   ]
  },
  {
   "cell_type": "code",
   "execution_count": 17,
   "id": "478c6223",
   "metadata": {},
   "outputs": [],
   "source": [
    "t1 = \"Bad cramps with bruise marks\""
   ]
  },
  {
   "cell_type": "code",
   "execution_count": 18,
   "id": "6bba73ee",
   "metadata": {},
   "outputs": [],
   "source": [
    "tp1 = preprocess(t1)"
   ]
  },
  {
   "cell_type": "code",
   "execution_count": 19,
   "id": "bcd6c6cb",
   "metadata": {},
   "outputs": [],
   "source": [
    "tp1 = nlp(tp1).vector"
   ]
  },
  {
   "cell_type": "code",
   "execution_count": 20,
   "id": "75096431",
   "metadata": {},
   "outputs": [],
   "source": [
    "tp1 = tp1.reshape(1,-1)"
   ]
  },
  {
   "cell_type": "code",
   "execution_count": 21,
   "id": "74456665",
   "metadata": {},
   "outputs": [],
   "source": [
    "tp1 = scaler.transform(tp1)"
   ]
  },
  {
   "cell_type": "code",
   "execution_count": 22,
   "id": "9973cd66",
   "metadata": {},
   "outputs": [],
   "source": [
    "pred = model.predict(tp1)"
   ]
  },
  {
   "cell_type": "code",
   "execution_count": 23,
   "id": "dfdae60c",
   "metadata": {},
   "outputs": [
    {
     "name": "stdout",
     "output_type": "stream",
     "text": [
      "[0]\n"
     ]
    }
   ],
   "source": [
    "print(pred)"
   ]
  },
  {
   "cell_type": "code",
   "execution_count": 24,
   "id": "3efd167c",
   "metadata": {},
   "outputs": [
    {
     "name": "stdout",
     "output_type": "stream",
     "text": [
      "Psoriasis\n"
     ]
    }
   ],
   "source": [
    "value = [i for i in lookup if lookup[i]==pred[0]]\n",
    "print(value[0])"
   ]
  },
  {
   "cell_type": "code",
   "execution_count": 25,
   "id": "75ee5a36",
   "metadata": {},
   "outputs": [
    {
     "data": {
      "text/plain": [
       "['scaler.pkl']"
      ]
     },
     "execution_count": 25,
     "metadata": {},
     "output_type": "execute_result"
    }
   ],
   "source": [
    "import joblib\n",
    "joblib.dump(model, 'model.pkl')\n",
    "joblib.dump(scaler, 'scaler.pkl')"
   ]
  },
  {
   "cell_type": "code",
   "execution_count": 26,
   "id": "11d6dd42",
   "metadata": {},
   "outputs": [],
   "source": [
    "df.to_csv('lookup.csv')"
   ]
  },
  {
   "cell_type": "code",
   "execution_count": 27,
   "id": "cd23fd20",
   "metadata": {},
   "outputs": [
    {
     "data": {
      "text/plain": [
       "label                                                 Psoriasis\n",
       "text          My nails are starting to have small pits on th...\n",
       "label_num                                                     0\n",
       "preprocess    my nail be start to have small pit on they I b...\n",
       "vector        [-0.8339913, 3.1190882, -4.491308, -0.02520505...\n",
       "Name: 34, dtype: object"
      ]
     },
     "execution_count": 27,
     "metadata": {},
     "output_type": "execute_result"
    }
   ],
   "source": [
    "df.text.iloc[34]"
   ]
  },
  {
   "cell_type": "code",
   "execution_count": 28,
   "id": "f968ca6d",
   "metadata": {},
   "outputs": [
    {
     "data": {
      "text/plain": [
       "\"My nails are starting to have small pits on them. I am worried and don't know what is causing it. Also, my joints pain and there are rashes on my arms and back.\""
      ]
     },
     "execution_count": 28,
     "metadata": {},
     "output_type": "execute_result"
    }
   ],
   "source": [
    "df.text.iloc[34]"
   ]
  },
  {
   "cell_type": "code",
   "execution_count": null,
   "id": "b279a8d3",
   "metadata": {},
   "outputs": [],
   "source": []
  }
 ],
 "metadata": {
  "kernelspec": {
   "display_name": "Python 3.9 (tensorflow)",
   "language": "python",
   "name": "tensorflow"
  },
  "language_info": {
   "codemirror_mode": {
    "name": "ipython",
    "version": 3
   },
   "file_extension": ".py",
   "mimetype": "text/x-python",
   "name": "python",
   "nbconvert_exporter": "python",
   "pygments_lexer": "ipython3",
   "version": "3.9.13"
  }
 },
 "nbformat": 4,
 "nbformat_minor": 5
}
